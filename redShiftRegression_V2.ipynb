{
 "cells": [
  {
   "cell_type": "code",
   "execution_count": 78,
   "metadata": {},
   "outputs": [],
   "source": [
    "import numpy as np\n",
    "from sklearn.tree import DecisionTreeRegressor"
   ]
  },
  {
   "cell_type": "markdown",
   "metadata": {},
   "source": [
    "# FEATURE AND TARGET EXTRACTION FUCTION"
   ]
  },
  {
   "cell_type": "code",
   "execution_count": 79,
   "metadata": {},
   "outputs": [],
   "source": [
    "def get_features_targets(data):\n",
    "  features = np.zeros((data.shape[0],4))\n",
    "  features[:,0] = data['u']-data['g']\n",
    "  features[:,1] = data['g']-data['r']\n",
    "  features[:,2] = data['r']-data['i']\n",
    "  features[:,3] = data['i']-data['z']\n",
    "  targets = data['redshift']\n",
    "  return features,targets"
   ]
  },
  {
   "cell_type": "markdown",
   "metadata": {},
   "source": [
    "# MEDIAN_DEFF FUNCTION"
   ]
  },
  {
   "cell_type": "code",
   "execution_count": 80,
   "metadata": {},
   "outputs": [],
   "source": [
    "def median_diff(predicted, actual):\n",
    "  med_diff = np.median(abs(predicted-actual))\n",
    "  return med_diff"
   ]
  },
  {
   "cell_type": "markdown",
   "metadata": {},
   "source": [
    "### write a function that splits the data into training and testing subsets\n",
    "### trains the model and returns the prediction accuracy with median_diff"
   ]
  },
  {
   "cell_type": "code",
   "execution_count": 81,
   "metadata": {},
   "outputs": [],
   "source": [
    "def validate_model(model, features, targets):\n",
    "  # split the data into training and testing features and predictions\n",
    "  split = features.shape[0]//2\n",
    "  train_features = features[:split]\n",
    "  test_features = features[split:]\n",
    "  train_targets = targets[:split]\n",
    "  test_targets = targets[split:]\n",
    "  # train the model\n",
    "  m = model.fit(train_features,train_targets)\n",
    "  # get the predicted_redshifts\n",
    "  predictions = m.predict(test_features)\n",
    "  # use median_diff function to calculate the accuracy\n",
    "  return median_diff(test_targets, predictions),m"
   ]
  },
  {
   "cell_type": "markdown",
   "metadata": {},
   "source": [
    "# LOAD SDSS DATA"
   ]
  },
  {
   "cell_type": "code",
   "execution_count": 82,
   "metadata": {},
   "outputs": [],
   "source": [
    "data = np.load('sdss_galaxy_colors.npy')\n",
    "features, targets = get_features_targets(data)"
   ]
  },
  {
   "cell_type": "markdown",
   "metadata": {},
   "source": [
    "Acknoledgement:\n",
    "    Funding for the SDSS and SDSS-II has been provided by the Alfred P. Sloan Foundation, the Participating Institutions, the National Science Foundation, the U.S. Department of Energy, the National Aeronautics and Space Administration, the Japanese Monbukagakusho, the Max Planck Society, and the Higher Education Funding Council for England. The SDSS Web Site is http://www.sdss.org/.\n",
    "\n",
    "The SDSS is managed by the Astrophysical Research Consortium for the Participating Institutions. The Participating Institutions are the American Museum of Natural History, Astrophysical Institute Potsdam, University of Basel, University of Cambridge, Case Western Reserve University, University of Chicago, Drexel University, Fermilab, the Institute for Advanced Study, the Japan Participation Group, Johns Hopkins University, the Joint Institute for Nuclear Astrophysics, the Kavli Institute for Particle Astrophysics and Cosmology, the Korean Scientist Group, the Chinese Academy of Sciences (LAMOST), Los Alamos National Laboratory, the Max-Planck-Institute for Astronomy (MPIA), the Max-Planck-Institute for Astrophysics (MPA), New Mexico State University, Ohio State University, University of Pittsburgh, University of Portsmouth, Princeton University, the United States Naval Observatory, and the University of Washington."
   ]
  },
  {
   "cell_type": "markdown",
   "metadata": {},
   "source": [
    "# INTIALIZE MODEL"
   ]
  },
  {
   "cell_type": "code",
   "execution_count": 83,
   "metadata": {},
   "outputs": [],
   "source": [
    "dtr = DecisionTreeRegressor()"
   ]
  },
  {
   "cell_type": "markdown",
   "metadata": {},
   "source": [
    " # Validate the model and print the med_diff"
   ]
  },
  {
   "cell_type": "code",
   "execution_count": 84,
   "metadata": {},
   "outputs": [
    {
     "name": "stdout",
     "output_type": "stream",
     "text": [
      "Median difference: 0.022052\n"
     ]
    }
   ],
   "source": [
    "diff,modelFit = validate_model(dtr, features, targets)\n",
    "print('Median difference: {:f}'.format(diff))"
   ]
  },
  {
   "cell_type": "markdown",
   "metadata": {},
   "source": [
    "# Prediction for New data"
   ]
  },
  {
   "cell_type": "code",
   "execution_count": 85,
   "metadata": {},
   "outputs": [],
   "source": [
    "def get_new_features(data):\n",
    "  new_features = np.zeros((data.shape[0],4))\n",
    "  new_features[:,0] = data['u']-data['g']\n",
    "  new_features[:,1] = data['g']-data['r']\n",
    "  new_features[:,2] = data['r']-data['i']\n",
    "  new_features[:,3] = data['i']-data['z']\n",
    "  return new_features"
   ]
  },
  {
   "cell_type": "code",
   "execution_count": 86,
   "metadata": {},
   "outputs": [
    {
     "name": "stdout",
     "output_type": "stream",
     "text": [
      "[0.539301   0.1645703  0.04190006 0.04421812 0.04164413]\n"
     ]
    }
   ],
   "source": [
    "data1 = np.load('sdss_galaxy_colors.npy')\n",
    "new_features = get_new_features(data1)\n",
    "\n",
    "split = new_features.shape[0]//3\n",
    "new_features1 = new_features[:split]\n",
    "\n",
    "# get the predicted_redshifts\n",
    "predictions = modelFit.predict(new_features1)\n",
    "print(predictions[:5])"
   ]
  },
  {
   "cell_type": "code",
   "execution_count": null,
   "metadata": {},
   "outputs": [],
   "source": []
  }
 ],
 "metadata": {
  "kernelspec": {
   "display_name": "Python 3",
   "language": "python",
   "name": "python3"
  },
  "language_info": {
   "codemirror_mode": {
    "name": "ipython",
    "version": 3
   },
   "file_extension": ".py",
   "mimetype": "text/x-python",
   "name": "python",
   "nbconvert_exporter": "python",
   "pygments_lexer": "ipython3",
   "version": "3.7.6"
  }
 },
 "nbformat": 4,
 "nbformat_minor": 4
}
